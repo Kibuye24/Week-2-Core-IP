{
 "cells": [
  {
   "cell_type": "markdown",
   "metadata": {
    "id": "k3byZvq9MMJT"
   },
   "source": [
    "# **EXPLORATORY DATA ANALYSIS**"
   ]
  },
  {
   "cell_type": "markdown",
   "metadata": {
    "id": "dEXDz2A7MMnU"
   },
   "source": [
    "## 1. Defining the question"
   ]
  },
  {
   "cell_type": "markdown",
   "metadata": {
    "id": "r5NyPjW3oZSd"
   },
   "source": [
    "### a) Specifying the question\n"
   ]
  },
  {
   "cell_type": "markdown",
   "metadata": {
    "id": "VOk2ZHubokf_"
   },
   "source": [
    "How can financial inclusion be improved in Kenya using Kenya, Rwanda, Uganda, and Tanzania as sample?"
   ]
  },
  {
   "cell_type": "markdown",
   "metadata": {
    "id": "lJiFOVWio5Ep"
   },
   "source": [
    "### b) Defining the metric for success"
   ]
  },
  {
   "cell_type": "markdown",
   "metadata": {
    "id": "Lv64FvYFpESb"
   },
   "source": [
    "We will find the main factors affecting financial inclusion and lack thereof"
   ]
  },
  {
   "cell_type": "markdown",
   "metadata": {
    "id": "sCju9vpOpPFz"
   },
   "source": [
    "### c) Understanding the context"
   ]
  },
  {
   "cell_type": "markdown",
   "metadata": {
    "id": "ilcJJ4JTpX2s"
   },
   "source": [
    "Financial inclusion in Africa is a big problem and known to hinder development in the continent. In Kenya, Uganda, Rwanda, and Tanzania only 13.9% of the adult population have bank accounts."
   ]
  },
  {
   "cell_type": "markdown",
   "metadata": {
    "id": "NKO_Ee--p4Ze"
   },
   "source": [
    "### d) Recording the experimental design"
   ]
  },
  {
   "cell_type": "markdown",
   "metadata": {
    "id": "KlxakLgdp_Z5"
   },
   "source": []
  },
  {
   "cell_type": "markdown",
   "metadata": {
    "id": "_ntvFFKIqEky"
   },
   "source": [
    "### e) Data Relevance"
   ]
  },
  {
   "cell_type": "markdown",
   "metadata": {
    "id": "mBob_G29MM86"
   },
   "source": [
    "# 2. Reading the Data"
   ]
  },
  {
   "cell_type": "code",
   "execution_count": 41,
   "metadata": {
    "id": "L44XT-L3Nkfd"
   },
   "outputs": [],
   "source": [
    "#importing the libraries\n",
    "import pandas as pd\n",
    "import numpy as np\n",
    "import matplotlib.pyplot as plt\n",
    "import seaborn as sns\n"
   ]
  },
  {
   "cell_type": "code",
   "execution_count": 42,
   "metadata": {
    "id": "uW9kpJ_hN-Yv"
   },
   "outputs": [],
   "source": [
    "#loading the dataset\n",
    "df = pd.read_csv('http://bit.ly/FinancialDataset')"
   ]
  },
  {
   "cell_type": "markdown",
   "metadata": {
    "id": "PbpUoH6oMNRb"
   },
   "source": [
    "# 3. Checking the Data"
   ]
  },
  {
   "cell_type": "code",
   "execution_count": 43,
   "metadata": {
    "colab": {
     "base_uri": "https://localhost:8080/"
    },
    "id": "S4ws2mSdqW_R",
    "outputId": "df1a98fc-6bb3-4965-f260-aba9b1a71100"
   },
   "outputs": [
    {
     "data": {
      "text/plain": [
       "(23524, 13)"
      ]
     },
     "execution_count": 43,
     "metadata": {},
     "output_type": "execute_result"
    }
   ],
   "source": [
    "#Determining number of records in the dataset\n",
    "df.shape"
   ]
  },
  {
   "cell_type": "code",
   "execution_count": 44,
   "metadata": {
    "colab": {
     "base_uri": "https://localhost:8080/",
     "height": 426
    },
    "id": "A8vajvqZqoyr",
    "outputId": "07d17a6c-7a64-438b-e79f-0376d839dabc"
   },
   "outputs": [
    {
     "data": {
      "text/html": [
       "<div>\n",
       "<style scoped>\n",
       "    .dataframe tbody tr th:only-of-type {\n",
       "        vertical-align: middle;\n",
       "    }\n",
       "\n",
       "    .dataframe tbody tr th {\n",
       "        vertical-align: top;\n",
       "    }\n",
       "\n",
       "    .dataframe thead th {\n",
       "        text-align: right;\n",
       "    }\n",
       "</style>\n",
       "<table border=\"1\" class=\"dataframe\">\n",
       "  <thead>\n",
       "    <tr style=\"text-align: right;\">\n",
       "      <th></th>\n",
       "      <th>country</th>\n",
       "      <th>year</th>\n",
       "      <th>uniqueid</th>\n",
       "      <th>Has a Bank account</th>\n",
       "      <th>Type of Location</th>\n",
       "      <th>Cell Phone Access</th>\n",
       "      <th>household_size</th>\n",
       "      <th>Respondent Age</th>\n",
       "      <th>gender_of_respondent</th>\n",
       "      <th>The relathip with head</th>\n",
       "      <th>marital_status</th>\n",
       "      <th>Level of Educuation</th>\n",
       "      <th>Type of Job</th>\n",
       "    </tr>\n",
       "  </thead>\n",
       "  <tbody>\n",
       "    <tr>\n",
       "      <th>0</th>\n",
       "      <td>Kenya</td>\n",
       "      <td>2018</td>\n",
       "      <td>uniqueid_1</td>\n",
       "      <td>Yes</td>\n",
       "      <td>Rural</td>\n",
       "      <td>Yes</td>\n",
       "      <td>3.0</td>\n",
       "      <td>24.0</td>\n",
       "      <td>Female</td>\n",
       "      <td>Spouse</td>\n",
       "      <td>Married/Living together</td>\n",
       "      <td>Secondary education</td>\n",
       "      <td>Self employed</td>\n",
       "    </tr>\n",
       "    <tr>\n",
       "      <th>1</th>\n",
       "      <td>Kenya</td>\n",
       "      <td>2018</td>\n",
       "      <td>uniqueid_2</td>\n",
       "      <td>No</td>\n",
       "      <td>Rural</td>\n",
       "      <td>No</td>\n",
       "      <td>5.0</td>\n",
       "      <td>70.0</td>\n",
       "      <td>Female</td>\n",
       "      <td>Head of Household</td>\n",
       "      <td>Widowed</td>\n",
       "      <td>No formal education</td>\n",
       "      <td>Government Dependent</td>\n",
       "    </tr>\n",
       "    <tr>\n",
       "      <th>2</th>\n",
       "      <td>Kenya</td>\n",
       "      <td>2018</td>\n",
       "      <td>uniqueid_3</td>\n",
       "      <td>Yes</td>\n",
       "      <td>Urban</td>\n",
       "      <td>Yes</td>\n",
       "      <td>5.0</td>\n",
       "      <td>26.0</td>\n",
       "      <td>Male</td>\n",
       "      <td>Other relative</td>\n",
       "      <td>Single/Never Married</td>\n",
       "      <td>Vocational/Specialised training</td>\n",
       "      <td>Self employed</td>\n",
       "    </tr>\n",
       "    <tr>\n",
       "      <th>3</th>\n",
       "      <td>Kenya</td>\n",
       "      <td>2018</td>\n",
       "      <td>uniqueid_4</td>\n",
       "      <td>No</td>\n",
       "      <td>Rural</td>\n",
       "      <td>Yes</td>\n",
       "      <td>5.0</td>\n",
       "      <td>34.0</td>\n",
       "      <td>Female</td>\n",
       "      <td>Head of Household</td>\n",
       "      <td>Married/Living together</td>\n",
       "      <td>Primary education</td>\n",
       "      <td>Formally employed Private</td>\n",
       "    </tr>\n",
       "    <tr>\n",
       "      <th>4</th>\n",
       "      <td>Kenya</td>\n",
       "      <td>2018</td>\n",
       "      <td>uniqueid_5</td>\n",
       "      <td>No</td>\n",
       "      <td>Urban</td>\n",
       "      <td>No</td>\n",
       "      <td>8.0</td>\n",
       "      <td>26.0</td>\n",
       "      <td>Male</td>\n",
       "      <td>Child</td>\n",
       "      <td>Single/Never Married</td>\n",
       "      <td>Primary education</td>\n",
       "      <td>Informally employed</td>\n",
       "    </tr>\n",
       "  </tbody>\n",
       "</table>\n",
       "</div>"
      ],
      "text/plain": [
       "  country  year    uniqueid Has a Bank account Type of Location  \\\n",
       "0   Kenya  2018  uniqueid_1                Yes            Rural   \n",
       "1   Kenya  2018  uniqueid_2                 No            Rural   \n",
       "2   Kenya  2018  uniqueid_3                Yes            Urban   \n",
       "3   Kenya  2018  uniqueid_4                 No            Rural   \n",
       "4   Kenya  2018  uniqueid_5                 No            Urban   \n",
       "\n",
       "  Cell Phone Access  household_size  Respondent Age gender_of_respondent  \\\n",
       "0               Yes             3.0            24.0               Female   \n",
       "1                No             5.0            70.0               Female   \n",
       "2               Yes             5.0            26.0                 Male   \n",
       "3               Yes             5.0            34.0               Female   \n",
       "4                No             8.0            26.0                 Male   \n",
       "\n",
       "  The relathip with head           marital_status  \\\n",
       "0                 Spouse  Married/Living together   \n",
       "1      Head of Household                  Widowed   \n",
       "2         Other relative     Single/Never Married   \n",
       "3      Head of Household  Married/Living together   \n",
       "4                  Child     Single/Never Married   \n",
       "\n",
       "               Level of Educuation                Type of Job  \n",
       "0              Secondary education              Self employed  \n",
       "1              No formal education       Government Dependent  \n",
       "2  Vocational/Specialised training              Self employed  \n",
       "3                Primary education  Formally employed Private  \n",
       "4                Primary education        Informally employed  "
      ]
     },
     "execution_count": 44,
     "metadata": {},
     "output_type": "execute_result"
    }
   ],
   "source": [
    "#previewing the top of the dataset\n",
    "df.head()"
   ]
  },
  {
   "cell_type": "code",
   "execution_count": 45,
   "metadata": {
    "colab": {
     "base_uri": "https://localhost:8080/",
     "height": 408
    },
    "id": "2xu7k05Pqxwq",
    "outputId": "4be5976d-84c2-4b3f-fe42-470d780e0804"
   },
   "outputs": [
    {
     "data": {
      "text/html": [
       "<div>\n",
       "<style scoped>\n",
       "    .dataframe tbody tr th:only-of-type {\n",
       "        vertical-align: middle;\n",
       "    }\n",
       "\n",
       "    .dataframe tbody tr th {\n",
       "        vertical-align: top;\n",
       "    }\n",
       "\n",
       "    .dataframe thead th {\n",
       "        text-align: right;\n",
       "    }\n",
       "</style>\n",
       "<table border=\"1\" class=\"dataframe\">\n",
       "  <thead>\n",
       "    <tr style=\"text-align: right;\">\n",
       "      <th></th>\n",
       "      <th>country</th>\n",
       "      <th>year</th>\n",
       "      <th>uniqueid</th>\n",
       "      <th>Has a Bank account</th>\n",
       "      <th>Type of Location</th>\n",
       "      <th>Cell Phone Access</th>\n",
       "      <th>household_size</th>\n",
       "      <th>Respondent Age</th>\n",
       "      <th>gender_of_respondent</th>\n",
       "      <th>The relathip with head</th>\n",
       "      <th>marital_status</th>\n",
       "      <th>Level of Educuation</th>\n",
       "      <th>Type of Job</th>\n",
       "    </tr>\n",
       "  </thead>\n",
       "  <tbody>\n",
       "    <tr>\n",
       "      <th>23519</th>\n",
       "      <td>Uganda</td>\n",
       "      <td>2018</td>\n",
       "      <td>uniqueid_2113</td>\n",
       "      <td>No</td>\n",
       "      <td>Rural</td>\n",
       "      <td>Yes</td>\n",
       "      <td>4.0</td>\n",
       "      <td>48.0</td>\n",
       "      <td>Female</td>\n",
       "      <td>Head of Household</td>\n",
       "      <td>Divorced/Seperated</td>\n",
       "      <td>No formal education</td>\n",
       "      <td>Other Income</td>\n",
       "    </tr>\n",
       "    <tr>\n",
       "      <th>23520</th>\n",
       "      <td>Uganda</td>\n",
       "      <td>2018</td>\n",
       "      <td>uniqueid_2114</td>\n",
       "      <td>No</td>\n",
       "      <td>Rural</td>\n",
       "      <td>Yes</td>\n",
       "      <td>2.0</td>\n",
       "      <td>27.0</td>\n",
       "      <td>Female</td>\n",
       "      <td>Head of Household</td>\n",
       "      <td>Single/Never Married</td>\n",
       "      <td>Secondary education</td>\n",
       "      <td>Other Income</td>\n",
       "    </tr>\n",
       "    <tr>\n",
       "      <th>23521</th>\n",
       "      <td>Uganda</td>\n",
       "      <td>2018</td>\n",
       "      <td>uniqueid_2115</td>\n",
       "      <td>No</td>\n",
       "      <td>Rural</td>\n",
       "      <td>Yes</td>\n",
       "      <td>5.0</td>\n",
       "      <td>27.0</td>\n",
       "      <td>Female</td>\n",
       "      <td>Parent</td>\n",
       "      <td>Widowed</td>\n",
       "      <td>Primary education</td>\n",
       "      <td>Other Income</td>\n",
       "    </tr>\n",
       "    <tr>\n",
       "      <th>23522</th>\n",
       "      <td>Uganda</td>\n",
       "      <td>2018</td>\n",
       "      <td>uniqueid_2116</td>\n",
       "      <td>No</td>\n",
       "      <td>Urban</td>\n",
       "      <td>Yes</td>\n",
       "      <td>7.0</td>\n",
       "      <td>30.0</td>\n",
       "      <td>Female</td>\n",
       "      <td>Parent</td>\n",
       "      <td>Divorced/Seperated</td>\n",
       "      <td>Secondary education</td>\n",
       "      <td>Self employed</td>\n",
       "    </tr>\n",
       "    <tr>\n",
       "      <th>23523</th>\n",
       "      <td>Uganda</td>\n",
       "      <td>2018</td>\n",
       "      <td>uniqueid_2117</td>\n",
       "      <td>No</td>\n",
       "      <td>Rural</td>\n",
       "      <td>Yes</td>\n",
       "      <td>10.0</td>\n",
       "      <td>20.0</td>\n",
       "      <td>Male</td>\n",
       "      <td>Child</td>\n",
       "      <td>Single/Never Married</td>\n",
       "      <td>Secondary education</td>\n",
       "      <td>No Income</td>\n",
       "    </tr>\n",
       "  </tbody>\n",
       "</table>\n",
       "</div>"
      ],
      "text/plain": [
       "      country  year       uniqueid Has a Bank account Type of Location  \\\n",
       "23519  Uganda  2018  uniqueid_2113                 No            Rural   \n",
       "23520  Uganda  2018  uniqueid_2114                 No            Rural   \n",
       "23521  Uganda  2018  uniqueid_2115                 No            Rural   \n",
       "23522  Uganda  2018  uniqueid_2116                 No            Urban   \n",
       "23523  Uganda  2018  uniqueid_2117                 No            Rural   \n",
       "\n",
       "      Cell Phone Access  household_size  Respondent Age gender_of_respondent  \\\n",
       "23519               Yes             4.0            48.0               Female   \n",
       "23520               Yes             2.0            27.0               Female   \n",
       "23521               Yes             5.0            27.0               Female   \n",
       "23522               Yes             7.0            30.0               Female   \n",
       "23523               Yes            10.0            20.0                 Male   \n",
       "\n",
       "      The relathip with head        marital_status  Level of Educuation  \\\n",
       "23519      Head of Household    Divorced/Seperated  No formal education   \n",
       "23520      Head of Household  Single/Never Married  Secondary education   \n",
       "23521                 Parent               Widowed    Primary education   \n",
       "23522                 Parent    Divorced/Seperated  Secondary education   \n",
       "23523                  Child  Single/Never Married  Secondary education   \n",
       "\n",
       "         Type of Job  \n",
       "23519   Other Income  \n",
       "23520   Other Income  \n",
       "23521   Other Income  \n",
       "23522  Self employed  \n",
       "23523      No Income  "
      ]
     },
     "execution_count": 45,
     "metadata": {},
     "output_type": "execute_result"
    }
   ],
   "source": [
    "#Previewing the bottom of the dataset\n",
    "df.tail()"
   ]
  },
  {
   "cell_type": "code",
   "execution_count": 46,
   "metadata": {
    "colab": {
     "base_uri": "https://localhost:8080/"
    },
    "id": "x-aQTibQq9Ea",
    "outputId": "bf40ca0c-b8d3-493a-9b2e-0b251cbd8755"
   },
   "outputs": [
    {
     "data": {
      "text/plain": [
       "country                    object\n",
       "year                        int64\n",
       "uniqueid                   object\n",
       "Has a Bank account         object\n",
       "Type of Location           object\n",
       "Cell Phone Access          object\n",
       "household_size            float64\n",
       "Respondent Age            float64\n",
       "gender_of_respondent       object\n",
       "The relathip with head     object\n",
       "marital_status             object\n",
       "Level of Educuation        object\n",
       "Type of Job                object\n",
       "dtype: object"
      ]
     },
     "execution_count": 46,
     "metadata": {},
     "output_type": "execute_result"
    }
   ],
   "source": [
    "#checking if each column has the appropriate data type\n",
    "df.dtypes"
   ]
  },
  {
   "cell_type": "code",
   "execution_count": null,
   "metadata": {
    "id": "joqMNuv2rERC"
   },
   "outputs": [],
   "source": []
  },
  {
   "cell_type": "markdown",
   "metadata": {
    "id": "KA1r4tVLMNlN"
   },
   "source": [
    "# 4. External Data Source Validation"
   ]
  },
  {
   "cell_type": "markdown",
   "metadata": {
    "id": "BL_ZgE0-rbwI"
   },
   "source": [
    "Data source validation was done by looking at information from the source of the dataset. The source of the dataset is Finscope and Finaccess of the respective countries"
   ]
  },
  {
   "cell_type": "markdown",
   "metadata": {
    "id": "eUlPoXifOU5x"
   },
   "source": [
    "# 5. Data Cleaning"
   ]
  },
  {
   "cell_type": "code",
   "execution_count": 47,
   "metadata": {
    "colab": {
     "base_uri": "https://localhost:8080/",
     "height": 384
    },
    "id": "FbtQqsyWO8bB",
    "outputId": "c820e0f7-5ea3-42f4-b1b2-109963ae81dd"
   },
   "outputs": [
    {
     "data": {
      "image/png": "[encoded data removed]",
      "text/plain": [
       "<Figure size 600x400 with 1 Axes>"
      ]
     },
     "metadata": {
      "needs_background": "light"
     },
     "output_type": "display_data"
    }
   ],
   "source": [
    "#Checking for outliers in household size\n",
    "plt.figure(dpi=100)\n",
    "df.boxplot(['household_size'])\n",
    "plt.title('Household Size', color='red')\n",
    "plt.show()\n",
    "\n",
    "#Outliers are not dropped as they are true values"
   ]
  },
  {
   "cell_type": "code",
   "execution_count": 48,
   "metadata": {
    "colab": {
     "base_uri": "https://localhost:8080/",
     "height": 384
    },
    "id": "QKTiFYPHr9Zo",
    "outputId": "63057eb6-5a46-4b01-d1dd-02167ac01788"
   },
   "outputs": [
    {
     "data": {
      "image/png": "[encoded data removed]",
      "text/plain": [
       "<Figure size 600x400 with 1 Axes>"
      ]
     },
     "metadata": {
      "needs_background": "light"
     },
     "output_type": "display_data"
    }
   ],
   "source": [
    "#checking for outliers in respondent age\n",
    "plt.figure(dpi=100)\n",
    "df.boxplot(['Respondent Age'])\n",
    "plt.title('Respondent Age')\n",
    "plt.show()\n",
    "\n",
    "#Outliers are kept as they are true values "
   ]
  },
  {
   "cell_type": "code",
   "execution_count": 49,
   "metadata": {
    "colab": {
     "base_uri": "https://localhost:8080/"
    },
    "id": "5mdDgX4JQEj_",
    "outputId": "85c84659-fd68-4e33-bb91-d1d44f4b0e24"
   },
   "outputs": [
    {
     "data": {
      "text/plain": [
       "country                   14\n",
       "year                       0\n",
       "uniqueid                   0\n",
       "Has a Bank account        36\n",
       "Type of Location          15\n",
       "Cell Phone Access         11\n",
       "household_size            28\n",
       "Respondent Age            34\n",
       "gender_of_respondent      34\n",
       "The relathip with head     4\n",
       "marital_status            32\n",
       "Level of Educuation       29\n",
       "Type of Job               30\n",
       "dtype: int64"
      ]
     },
     "execution_count": 49,
     "metadata": {},
     "output_type": "execute_result"
    }
   ],
   "source": [
    "#Checking for missing data\n",
    "df.isna().sum()"
   ]
  },
  {
   "cell_type": "code",
   "execution_count": 50,
   "metadata": {
    "id": "0l5_xbK7QKM3"
   },
   "outputs": [],
   "source": [
    "#Dropping missing data\n",
    "df.dropna(inplace=True)"
   ]
  },
  {
   "cell_type": "code",
   "execution_count": 51,
   "metadata": {
    "colab": {
     "base_uri": "https://localhost:8080/"
    },
    "id": "5X9Znep4QUY9",
    "outputId": "bf4e818c-5f3b-40d5-9aca-ade87d0694d1"
   },
   "outputs": [
    {
     "data": {
      "text/plain": [
       "0"
      ]
     },
     "execution_count": 51,
     "metadata": {},
     "output_type": "execute_result"
    }
   ],
   "source": [
    "#Checking for duplicated values\n",
    "df.duplicated().sum()"
   ]
  },
  {
   "cell_type": "code",
   "execution_count": 52,
   "metadata": {
    "id": "lCCtjLnTQc7O"
   },
   "outputs": [],
   "source": [
    "#Renaming columns with messy names\n",
    "df.rename(columns={'The relathip with head':'relationship with head', 'Level of Educuation':'Level of education'}, inplace=True)"
   ]
  },
  {
   "cell_type": "code",
   "execution_count": 53,
   "metadata": {
    "colab": {
     "base_uri": "https://localhost:8080/",
     "height": 190
    },
    "id": "RQGRH7e8RN2W",
    "outputId": "22e36102-9382-4f33-ca54-1aef0ff4f6c6"
   },
   "outputs": [],
   "source": [
    "#Dropping unecessary columns\n",
    "df.drop(['uniqueid'], axis=1, inplace=True)"
   ]
  },
  {
   "cell_type": "code",
   "execution_count": 54,
   "metadata": {},
   "outputs": [],
   "source": [
    "#Making columns in dataset to be uniform by lowering them and removing delimiters\n",
    "df.columns = df.columns.str.lower()"
   ]
  },
  {
   "cell_type": "code",
   "execution_count": 55,
   "metadata": {},
   "outputs": [],
   "source": [
    "df.columns = df.columns.str.replace(\"_\", \" \")"
   ]
  },
  {
   "cell_type": "code",
   "execution_count": 56,
   "metadata": {},
   "outputs": [
    {
     "data": {
      "text/plain": [
       "Index(['country', 'year', 'has a bank account', 'type of location',\n",
       "       'cell phone access', 'household size', 'respondent age',\n",
       "       'gender of respondent', 'relationship with head', 'marital status',\n",
       "       'level of education', 'type of job'],\n",
       "      dtype='object')"
      ]
     },
     "execution_count": 56,
     "metadata": {},
     "output_type": "execute_result"
    }
   ],
   "source": [
    "#Confirming the columns\n",
    "df.columns"
   ]
  },
  {
   "cell_type": "markdown",
   "metadata": {
    "id": "s87XZlbNSRMw"
   },
   "source": [
    "# 6. Exploratory Analysis"
   ]
  },
  {
   "cell_type": "markdown",
   "metadata": {
    "id": "8Fmb07eJSXgy"
   },
   "source": [
    "## 6.1 Univariate Data Analysis"
   ]
  },
  {
   "cell_type": "code",
   "execution_count": 57,
   "metadata": {
    "colab": {
     "base_uri": "https://localhost:8080/",
     "height": 190
    },
    "id": "e1f9vXwTSb6z",
    "outputId": "9b205d2b-620c-46a5-bb49-78d4f947aee5"
   },
   "outputs": [
    {
     "data": {
      "text/plain": [
       "Rwanda      8684\n",
       "Tanzania    6500\n",
       "Kenya       6064\n",
       "Uganda      2095\n",
       "Name: country, dtype: int64"
      ]
     },
     "execution_count": 57,
     "metadata": {},
     "output_type": "execute_result"
    }
   ],
   "source": [
    "#We look at the number of countries\n",
    "df.country.value_counts()"
   ]
  },
  {
   "cell_type": "code",
   "execution_count": 58,
   "metadata": {
    "colab": {
     "base_uri": "https://localhost:8080/",
     "height": 264
    },
    "id": "OxAfKil8S3jc",
    "outputId": "7800556d-6ce3-4172-eccc-9d2986cc02b5"
   },
   "outputs": [
    {
     "name": "stderr",
     "output_type": "stream",
     "text": [
      "C:\\Users\\HP\\AppData\\Local\\Programs\\Python\\Python310\\lib\\site-packages\\seaborn\\_decorators.py:36: FutureWarning: Pass the following variable as a keyword arg: x. From version 0.12, the only valid positional argument will be `data`, and passing other arguments without an explicit keyword will result in an error or misinterpretation.\n",
      "  warnings.warn(\n"
     ]
    },
    {
     "data": {
      "image/png": "[encoded data removed]",
      "text/plain": [
       "<Figure size 600x400 with 1 Axes>"
      ]
     },
     "metadata": {
      "needs_background": "light"
     },
     "output_type": "display_data"
    }
   ],
   "source": [
    "#We can represent the number using a bar chart\n",
    "plt.figure(dpi=100)\n",
    "sns.countplot(df.country)\n",
    "plt.title('Number of Respondents By Country')\n",
    "plt.show()"
   ]
  },
  {
   "cell_type": "code",
   "execution_count": 61,
   "metadata": {
    "colab": {
     "base_uri": "https://localhost:8080/",
     "height": 208
    },
    "id": "tzsnyyPMTp0O",
    "outputId": "ad970db1-c0e2-463d-965f-75f83f743b00"
   },
   "outputs": [
    {
     "data": {
      "text/plain": [
       "No     20046\n",
       "Yes     3297\n",
       "Name: has a bank account, dtype: int64"
      ]
     },
     "execution_count": 61,
     "metadata": {},
     "output_type": "execute_result"
    }
   ],
   "source": [
    "#We look at the number of respondents with a bank and those without a bank\n",
    "accounts = df['has a bank account'].value_counts()\n",
    "accounts"
   ]
  },
  {
   "cell_type": "markdown",
   "metadata": {
    "id": "eEsk3rFDUFlw"
   },
   "source": [
    "Most respondents don't have a bank account"
   ]
  },
  {
   "cell_type": "code",
   "execution_count": 62,
   "metadata": {
    "id": "Wa-ErFriUCVc"
   },
   "outputs": [
    {
     "data": {
      "image/png": "[encoded data removed]",
      "text/plain": [
       "<Figure size 500x500 with 1 Axes>"
      ]
     },
     "metadata": {},
     "output_type": "display_data"
    }
   ],
   "source": [
    "#We can represent that using a pie chart\n",
    "accounts = df['has a bank account'].value_counts()\n",
    "labels = accounts.index\n",
    "values = accounts.values\n",
    "\n",
    "plt.figure(figsize=(5,5), dpi=100, facecolor='green')\n",
    "plt.pie(values, labels = labels, autopct='%1.1f%%', shadow=True, startangle=90)\n",
    "plt.show()"
   ]
  },
  {
   "cell_type": "code",
   "execution_count": 63,
   "metadata": {
    "id": "-0N1cJIycZkH"
   },
   "outputs": [
    {
     "name": "stderr",
     "output_type": "stream",
     "text": [
      "C:\\Users\\HP\\AppData\\Local\\Programs\\Python\\Python310\\lib\\site-packages\\seaborn\\distributions.py:2619: FutureWarning: `distplot` is a deprecated function and will be removed in a future version. Please adapt your code to use either `displot` (a figure-level function with similar flexibility) or `histplot` (an axes-level function for histograms).\n",
      "  warnings.warn(msg, FutureWarning)\n"
     ]
    },
    {
     "data": {
      "image/png": "[encoded data removed]",
      "text/plain": [
       "<Figure size 900x600 with 1 Axes>"
      ]
     },
     "metadata": {
      "needs_background": "light"
     },
     "output_type": "display_data"
    }
   ],
   "source": [
    "#Information of respondents household sizes\n",
    "plt.figure(dpi=150)\n",
    "sns.distplot(df['household size'], kde=False, color='purple')\n",
    "plt.ylabel('Frequency')\n",
    "plt.title('Household Sizes of Respondents')\n",
    "plt.show()"
   ]
  },
  {
   "cell_type": "code",
   "execution_count": 64,
   "metadata": {
    "id": "jQOGv3nhZC8g"
   },
   "outputs": [
    {
     "data": {
      "image/png": "[encoded data removed]",
      "text/plain": [
       "<Figure size 900x600 with 1 Axes>"
      ]
     },
     "metadata": {
      "needs_background": "light"
     },
     "output_type": "display_data"
    }
   ],
   "source": [
    "#Information of respondent age\n",
    "plt.figure(dpi=150)\n",
    "sns.distplot(df['respondent age'], kde=True, color='red')\n",
    "plt.ylabel('Frequency')\n",
    "plt.title('Histogram Showing Respondents Age')\n",
    "plt.show()"
   ]
  },
  {
   "cell_type": "code",
   "execution_count": 65,
   "metadata": {
    "id": "SfgxIlRNafub"
   },
   "outputs": [
    {
     "name": "stderr",
     "output_type": "stream",
     "text": [
      "C:\\Users\\HP\\AppData\\Local\\Programs\\Python\\Python310\\lib\\site-packages\\seaborn\\_decorators.py:36: FutureWarning: Pass the following variable as a keyword arg: x. From version 0.12, the only valid positional argument will be `data`, and passing other arguments without an explicit keyword will result in an error or misinterpretation.\n",
      "  warnings.warn(\n"
     ]
    },
    {
     "data": {
      "text/plain": [
       "<function matplotlib.pyplot.show(close=None, block=None)>"
      ]
     },
     "execution_count": 65,
     "metadata": {},
     "output_type": "execute_result"
    },
    {
     "data": {
      "image/png": "[encoded data removed]",
      "text/plain": [
       "<Figure size 600x400 with 1 Axes>"
      ]
     },
     "metadata": {
      "needs_background": "light"
     },
     "output_type": "display_data"
    }
   ],
   "source": [
    "plt.figure(dpi=100)\n",
    "sns.countplot(df['gender of respondent'])\n",
    "plt.title('Gender of Respondents')\n",
    "plt.ylabel('Count')\n",
    "plt.show"
   ]
  },
  {
   "cell_type": "code",
   "execution_count": 66,
   "metadata": {
    "id": "6q3hFIcMWqnZ"
   },
   "outputs": [
    {
     "data": {
      "text/html": [
       "<div>\n",
       "<style scoped>\n",
       "    .dataframe tbody tr th:only-of-type {\n",
       "        vertical-align: middle;\n",
       "    }\n",
       "\n",
       "    .dataframe tbody tr th {\n",
       "        vertical-align: top;\n",
       "    }\n",
       "\n",
       "    .dataframe thead th {\n",
       "        text-align: right;\n",
       "    }\n",
       "</style>\n",
       "<table border=\"1\" class=\"dataframe\">\n",
       "  <thead>\n",
       "    <tr style=\"text-align: right;\">\n",
       "      <th>col_0</th>\n",
       "      <th>count</th>\n",
       "    </tr>\n",
       "    <tr>\n",
       "      <th>level of education</th>\n",
       "      <th></th>\n",
       "    </tr>\n",
       "  </thead>\n",
       "  <tbody>\n",
       "    <tr>\n",
       "      <th>6</th>\n",
       "      <td>27</td>\n",
       "    </tr>\n",
       "    <tr>\n",
       "      <th>No formal education</th>\n",
       "      <td>4467</td>\n",
       "    </tr>\n",
       "    <tr>\n",
       "      <th>Other/Dont know/RTA</th>\n",
       "      <td>8</td>\n",
       "    </tr>\n",
       "    <tr>\n",
       "      <th>Primary education</th>\n",
       "      <td>12689</td>\n",
       "    </tr>\n",
       "    <tr>\n",
       "      <th>Secondary education</th>\n",
       "      <td>4207</td>\n",
       "    </tr>\n",
       "    <tr>\n",
       "      <th>Tertiary education</th>\n",
       "      <td>1144</td>\n",
       "    </tr>\n",
       "    <tr>\n",
       "      <th>Vocational/Specialised training</th>\n",
       "      <td>801</td>\n",
       "    </tr>\n",
       "  </tbody>\n",
       "</table>\n",
       "</div>"
      ],
      "text/plain": [
       "col_0                            count\n",
       "level of education                    \n",
       "6                                   27\n",
       "No formal education               4467\n",
       "Other/Dont know/RTA                  8\n",
       "Primary education                12689\n",
       "Secondary education               4207\n",
       "Tertiary education                1144\n",
       "Vocational/Specialised training    801"
      ]
     },
     "execution_count": 66,
     "metadata": {},
     "output_type": "execute_result"
    }
   ],
   "source": [
    "#We can also look at the level of education of most respondents\n",
    "education = pd.crosstab(index = df['level of education'], columns = 'count')\n",
    "education"
   ]
  },
  {
   "cell_type": "code",
   "execution_count": 67,
   "metadata": {
    "id": "_qusf_XjXghj"
   },
   "outputs": [
    {
     "data": {
      "text/html": [
       "<div>\n",
       "<style scoped>\n",
       "    .dataframe tbody tr th:only-of-type {\n",
       "        vertical-align: middle;\n",
       "    }\n",
       "\n",
       "    .dataframe tbody tr th {\n",
       "        vertical-align: top;\n",
       "    }\n",
       "\n",
       "    .dataframe thead th {\n",
       "        text-align: right;\n",
       "    }\n",
       "</style>\n",
       "<table border=\"1\" class=\"dataframe\">\n",
       "  <thead>\n",
       "    <tr style=\"text-align: right;\">\n",
       "      <th></th>\n",
       "      <th>year</th>\n",
       "      <th>household size</th>\n",
       "      <th>respondent age</th>\n",
       "    </tr>\n",
       "  </thead>\n",
       "  <tbody>\n",
       "    <tr>\n",
       "      <th>count</th>\n",
       "      <td>23343.000000</td>\n",
       "      <td>23343.000000</td>\n",
       "      <td>23343.000000</td>\n",
       "    </tr>\n",
       "    <tr>\n",
       "      <th>mean</th>\n",
       "      <td>2016.980594</td>\n",
       "      <td>3.688643</td>\n",
       "      <td>38.805509</td>\n",
       "    </tr>\n",
       "    <tr>\n",
       "      <th>std</th>\n",
       "      <td>0.901740</td>\n",
       "      <td>2.281184</td>\n",
       "      <td>16.519803</td>\n",
       "    </tr>\n",
       "    <tr>\n",
       "      <th>min</th>\n",
       "      <td>2016.000000</td>\n",
       "      <td>0.000000</td>\n",
       "      <td>16.000000</td>\n",
       "    </tr>\n",
       "    <tr>\n",
       "      <th>25%</th>\n",
       "      <td>2016.000000</td>\n",
       "      <td>2.000000</td>\n",
       "      <td>26.000000</td>\n",
       "    </tr>\n",
       "    <tr>\n",
       "      <th>50%</th>\n",
       "      <td>2017.000000</td>\n",
       "      <td>3.000000</td>\n",
       "      <td>35.000000</td>\n",
       "    </tr>\n",
       "    <tr>\n",
       "      <th>75%</th>\n",
       "      <td>2018.000000</td>\n",
       "      <td>5.000000</td>\n",
       "      <td>49.000000</td>\n",
       "    </tr>\n",
       "    <tr>\n",
       "      <th>max</th>\n",
       "      <td>2056.000000</td>\n",
       "      <td>21.000000</td>\n",
       "      <td>100.000000</td>\n",
       "    </tr>\n",
       "  </tbody>\n",
       "</table>\n",
       "</div>"
      ],
      "text/plain": [
       "               year  household size  respondent age\n",
       "count  23343.000000    23343.000000    23343.000000\n",
       "mean    2016.980594        3.688643       38.805509\n",
       "std        0.901740        2.281184       16.519803\n",
       "min     2016.000000        0.000000       16.000000\n",
       "25%     2016.000000        2.000000       26.000000\n",
       "50%     2017.000000        3.000000       35.000000\n",
       "75%     2018.000000        5.000000       49.000000\n",
       "max     2056.000000       21.000000      100.000000"
      ]
     },
     "execution_count": 67,
     "metadata": {},
     "output_type": "execute_result"
    }
   ],
   "source": [
    "#We can also look at a description of the dataset\n",
    "df.describe()"
   ]
  },
  {
   "cell_type": "code",
   "execution_count": 68,
   "metadata": {
    "id": "5esvcrLUX61e"
   },
   "outputs": [
    {
     "name": "stderr",
     "output_type": "stream",
     "text": [
      "C:\\Users\\HP\\AppData\\Local\\Temp/ipykernel_3084/2460543598.py:2: FutureWarning: Dropping of nuisance columns in DataFrame reductions (with 'numeric_only=None') is deprecated; in a future version this will raise TypeError.  Select only valid columns before calling the reduction.\n",
      "  df.median()\n"
     ]
    },
    {
     "data": {
      "text/plain": [
       "year              2017.0\n",
       "household size       3.0\n",
       "respondent age      35.0\n",
       "dtype: float64"
      ]
     },
     "execution_count": 68,
     "metadata": {},
     "output_type": "execute_result"
    }
   ],
   "source": [
    "#Finding the median of the dataset\n",
    "df.median()"
   ]
  },
  {
   "cell_type": "code",
   "execution_count": 71,
   "metadata": {
    "id": "vwJAn5nfYGze"
   },
   "outputs": [
    {
     "name": "stdout",
     "output_type": "stream",
     "text": [
      "0    2.0\n",
      "dtype: float64\n",
      "0    30.0\n",
      "dtype: float64\n"
     ]
    }
   ],
   "source": [
    "#finding the mode of the household size and respondent age\n",
    "print(df['household size'].mode())\n",
    "print(df['respondent age'].mode())"
   ]
  },
  {
   "cell_type": "markdown",
   "metadata": {
    "id": "g2pi2tWWXIDf"
   },
   "source": [
    "## 6.2 Bivariate Data Analysis"
   ]
  },
  {
   "cell_type": "markdown",
   "metadata": {
    "id": "A6AxJLnCeYU1"
   },
   "source": [
    "Bivariate Analysis is done to compare two variables. The quantifiable variables in this dataset are age and household size"
   ]
  },
  {
   "cell_type": "code",
   "execution_count": 72,
   "metadata": {
    "id": "9zX2ZEb0XNna"
   },
   "outputs": [
    {
     "data": {
      "image/png": "[encoded data removed]",
      "text/plain": [
       "<Figure size 600x400 with 1 Axes>"
      ]
     },
     "metadata": {
      "needs_background": "light"
     },
     "output_type": "display_data"
    }
   ],
   "source": [
    "#Scatter plot of household size and respondents age\n",
    "plt.figure(dpi=100)\n",
    "plt.scatter(df['household size'], df['respondent age'])\n",
    "plt.xlabel('Respondent Age')\n",
    "plt.ylabel('Household size')\n",
    "plt.title('Scatter Plot Relationship of Household Size and Respondent Age', color='Red')\n",
    "plt.show()"
   ]
  },
  {
   "cell_type": "markdown",
   "metadata": {
    "id": "1m2u8UlQgD6_"
   },
   "source": [
    "It can be seene there is no correlation between the household size and respondent age"
   ]
  },
  {
   "cell_type": "code",
   "execution_count": 73,
   "metadata": {
    "id": "BiUWYc4hgePZ"
   },
   "outputs": [
    {
     "data": {
      "text/plain": [
       "-0.11970919507762409"
      ]
     },
     "execution_count": 73,
     "metadata": {},
     "output_type": "execute_result"
    }
   ],
   "source": [
    "#Correlation of household size and respondent age\n",
    "df['household size'].corr(df['respondent age'])\n"
   ]
  },
  {
   "cell_type": "code",
   "execution_count": 74,
   "metadata": {
    "id": "dHicexGZm1W9"
   },
   "outputs": [
    {
     "data": {
      "text/html": [
       "<div>\n",
       "<style scoped>\n",
       "    .dataframe tbody tr th:only-of-type {\n",
       "        vertical-align: middle;\n",
       "    }\n",
       "\n",
       "    .dataframe tbody tr th {\n",
       "        vertical-align: top;\n",
       "    }\n",
       "\n",
       "    .dataframe thead th {\n",
       "        text-align: right;\n",
       "    }\n",
       "</style>\n",
       "<table border=\"1\" class=\"dataframe\">\n",
       "  <thead>\n",
       "    <tr style=\"text-align: right;\">\n",
       "      <th></th>\n",
       "      <th>year</th>\n",
       "      <th>household size</th>\n",
       "      <th>respondent age</th>\n",
       "    </tr>\n",
       "  </thead>\n",
       "  <tbody>\n",
       "    <tr>\n",
       "      <th>year</th>\n",
       "      <td>1.000000</td>\n",
       "      <td>-0.048902</td>\n",
       "      <td>-0.019062</td>\n",
       "    </tr>\n",
       "    <tr>\n",
       "      <th>household size</th>\n",
       "      <td>-0.048902</td>\n",
       "      <td>1.000000</td>\n",
       "      <td>-0.119709</td>\n",
       "    </tr>\n",
       "    <tr>\n",
       "      <th>respondent age</th>\n",
       "      <td>-0.019062</td>\n",
       "      <td>-0.119709</td>\n",
       "      <td>1.000000</td>\n",
       "    </tr>\n",
       "  </tbody>\n",
       "</table>\n",
       "</div>"
      ],
      "text/plain": [
       "                    year  household size  respondent age\n",
       "year            1.000000       -0.048902       -0.019062\n",
       "household size -0.048902        1.000000       -0.119709\n",
       "respondent age -0.019062       -0.119709        1.000000"
      ]
     },
     "execution_count": 74,
     "metadata": {},
     "output_type": "execute_result"
    }
   ],
   "source": [
    "#checking correlation of the entire dataset\n",
    "df.corr()"
   ]
  },
  {
   "cell_type": "markdown",
   "metadata": {
    "id": "GGpGlsoZnFEN"
   },
   "source": [
    "### 6.3 Multivariate Data Analysis"
   ]
  },
  {
   "cell_type": "markdown",
   "metadata": {
    "id": "IIjm72uvvZKx"
   },
   "source": [
    "Multivariate analysis compares multiple variables to get the results. In the dataset, there are only 2 numerical values. To make all levels usable, we will create a dataset of dummy variable to make comparison easy."
   ]
  },
  {
   "cell_type": "code",
   "execution_count": 75,
   "metadata": {
    "id": "tYYxOGU5nMT5"
   },
   "outputs": [
    {
     "data": {
      "text/html": [
       "<div>\n",
       "<style scoped>\n",
       "    .dataframe tbody tr th:only-of-type {\n",
       "        vertical-align: middle;\n",
       "    }\n",
       "\n",
       "    .dataframe tbody tr th {\n",
       "        vertical-align: top;\n",
       "    }\n",
       "\n",
       "    .dataframe thead th {\n",
       "        text-align: right;\n",
       "    }\n",
       "</style>\n",
       "<table border=\"1\" class=\"dataframe\">\n",
       "  <thead>\n",
       "    <tr style=\"text-align: right;\">\n",
       "      <th></th>\n",
       "      <th>country_Kenya</th>\n",
       "      <th>country_Rwanda</th>\n",
       "      <th>country_Tanzania</th>\n",
       "      <th>country_Uganda</th>\n",
       "      <th>type of location_Rural</th>\n",
       "      <th>type of location_Urban</th>\n",
       "      <th>cell phone access_No</th>\n",
       "      <th>cell phone access_Yes</th>\n",
       "      <th>gender of respondent_Female</th>\n",
       "      <th>gender of respondent_Male</th>\n",
       "      <th>...</th>\n",
       "      <th>type of job_Dont Know/Refuse to answer</th>\n",
       "      <th>type of job_Farming and Fishing</th>\n",
       "      <th>type of job_Formally employed Government</th>\n",
       "      <th>type of job_Formally employed Private</th>\n",
       "      <th>type of job_Government Dependent</th>\n",
       "      <th>type of job_Informally employed</th>\n",
       "      <th>type of job_No Income</th>\n",
       "      <th>type of job_Other Income</th>\n",
       "      <th>type of job_Remittance Dependent</th>\n",
       "      <th>type of job_Self employed</th>\n",
       "    </tr>\n",
       "  </thead>\n",
       "  <tbody>\n",
       "    <tr>\n",
       "      <th>0</th>\n",
       "      <td>1</td>\n",
       "      <td>0</td>\n",
       "      <td>0</td>\n",
       "      <td>0</td>\n",
       "      <td>1</td>\n",
       "      <td>0</td>\n",
       "      <td>0</td>\n",
       "      <td>1</td>\n",
       "      <td>1</td>\n",
       "      <td>0</td>\n",
       "      <td>...</td>\n",
       "      <td>0</td>\n",
       "      <td>0</td>\n",
       "      <td>0</td>\n",
       "      <td>0</td>\n",
       "      <td>0</td>\n",
       "      <td>0</td>\n",
       "      <td>0</td>\n",
       "      <td>0</td>\n",
       "      <td>0</td>\n",
       "      <td>1</td>\n",
       "    </tr>\n",
       "    <tr>\n",
       "      <th>1</th>\n",
       "      <td>1</td>\n",
       "      <td>0</td>\n",
       "      <td>0</td>\n",
       "      <td>0</td>\n",
       "      <td>1</td>\n",
       "      <td>0</td>\n",
       "      <td>1</td>\n",
       "      <td>0</td>\n",
       "      <td>1</td>\n",
       "      <td>0</td>\n",
       "      <td>...</td>\n",
       "      <td>0</td>\n",
       "      <td>0</td>\n",
       "      <td>0</td>\n",
       "      <td>0</td>\n",
       "      <td>1</td>\n",
       "      <td>0</td>\n",
       "      <td>0</td>\n",
       "      <td>0</td>\n",
       "      <td>0</td>\n",
       "      <td>0</td>\n",
       "    </tr>\n",
       "    <tr>\n",
       "      <th>2</th>\n",
       "      <td>1</td>\n",
       "      <td>0</td>\n",
       "      <td>0</td>\n",
       "      <td>0</td>\n",
       "      <td>0</td>\n",
       "      <td>1</td>\n",
       "      <td>0</td>\n",
       "      <td>1</td>\n",
       "      <td>0</td>\n",
       "      <td>1</td>\n",
       "      <td>...</td>\n",
       "      <td>0</td>\n",
       "      <td>0</td>\n",
       "      <td>0</td>\n",
       "      <td>0</td>\n",
       "      <td>0</td>\n",
       "      <td>0</td>\n",
       "      <td>0</td>\n",
       "      <td>0</td>\n",
       "      <td>0</td>\n",
       "      <td>1</td>\n",
       "    </tr>\n",
       "    <tr>\n",
       "      <th>3</th>\n",
       "      <td>1</td>\n",
       "      <td>0</td>\n",
       "      <td>0</td>\n",
       "      <td>0</td>\n",
       "      <td>1</td>\n",
       "      <td>0</td>\n",
       "      <td>0</td>\n",
       "      <td>1</td>\n",
       "      <td>1</td>\n",
       "      <td>0</td>\n",
       "      <td>...</td>\n",
       "      <td>0</td>\n",
       "      <td>0</td>\n",
       "      <td>0</td>\n",
       "      <td>1</td>\n",
       "      <td>0</td>\n",
       "      <td>0</td>\n",
       "      <td>0</td>\n",
       "      <td>0</td>\n",
       "      <td>0</td>\n",
       "      <td>0</td>\n",
       "    </tr>\n",
       "    <tr>\n",
       "      <th>4</th>\n",
       "      <td>1</td>\n",
       "      <td>0</td>\n",
       "      <td>0</td>\n",
       "      <td>0</td>\n",
       "      <td>0</td>\n",
       "      <td>1</td>\n",
       "      <td>1</td>\n",
       "      <td>0</td>\n",
       "      <td>0</td>\n",
       "      <td>1</td>\n",
       "      <td>...</td>\n",
       "      <td>0</td>\n",
       "      <td>0</td>\n",
       "      <td>0</td>\n",
       "      <td>0</td>\n",
       "      <td>0</td>\n",
       "      <td>1</td>\n",
       "      <td>0</td>\n",
       "      <td>0</td>\n",
       "      <td>0</td>\n",
       "      <td>0</td>\n",
       "    </tr>\n",
       "  </tbody>\n",
       "</table>\n",
       "<p>5 rows × 38 columns</p>\n",
       "</div>"
      ],
      "text/plain": [
       "   country_Kenya  country_Rwanda  country_Tanzania  country_Uganda  \\\n",
       "0              1               0                 0               0   \n",
       "1              1               0                 0               0   \n",
       "2              1               0                 0               0   \n",
       "3              1               0                 0               0   \n",
       "4              1               0                 0               0   \n",
       "\n",
       "   type of location_Rural  type of location_Urban  cell phone access_No  \\\n",
       "0                       1                       0                     0   \n",
       "1                       1                       0                     1   \n",
       "2                       0                       1                     0   \n",
       "3                       1                       0                     0   \n",
       "4                       0                       1                     1   \n",
       "\n",
       "   cell phone access_Yes  gender of respondent_Female  \\\n",
       "0                      1                            1   \n",
       "1                      0                            1   \n",
       "2                      1                            0   \n",
       "3                      1                            1   \n",
       "4                      0                            0   \n",
       "\n",
       "   gender of respondent_Male  ...  type of job_Dont Know/Refuse to answer  \\\n",
       "0                          0  ...                                       0   \n",
       "1                          0  ...                                       0   \n",
       "2                          1  ...                                       0   \n",
       "3                          0  ...                                       0   \n",
       "4                          1  ...                                       0   \n",
       "\n",
       "   type of job_Farming and Fishing  type of job_Formally employed Government  \\\n",
       "0                                0                                         0   \n",
       "1                                0                                         0   \n",
       "2                                0                                         0   \n",
       "3                                0                                         0   \n",
       "4                                0                                         0   \n",
       "\n",
       "   type of job_Formally employed Private  type of job_Government Dependent  \\\n",
       "0                                      0                                 0   \n",
       "1                                      0                                 1   \n",
       "2                                      0                                 0   \n",
       "3                                      1                                 0   \n",
       "4                                      0                                 0   \n",
       "\n",
       "   type of job_Informally employed  type of job_No Income  \\\n",
       "0                                0                      0   \n",
       "1                                0                      0   \n",
       "2                                0                      0   \n",
       "3                                0                      0   \n",
       "4                                1                      0   \n",
       "\n",
       "   type of job_Other Income  type of job_Remittance Dependent  \\\n",
       "0                         0                                 0   \n",
       "1                         0                                 0   \n",
       "2                         0                                 0   \n",
       "3                         0                                 0   \n",
       "4                         0                                 0   \n",
       "\n",
       "   type of job_Self employed  \n",
       "0                          1  \n",
       "1                          0  \n",
       "2                          1  \n",
       "3                          0  \n",
       "4                          0  \n",
       "\n",
       "[5 rows x 38 columns]"
      ]
     },
     "execution_count": 75,
     "metadata": {},
     "output_type": "execute_result"
    }
   ],
   "source": [
    "#Creating a dummy variable table\n",
    "df1 = pd.get_dummies(df[['country', 'type of location', 'cell phone access', 'gender of respondent','relationship with head', 'marital status', 'level of education', 'type of job']])\n",
    "df1.head()"
   ]
  },
  {
   "cell_type": "code",
   "execution_count": 77,
   "metadata": {},
   "outputs": [
    {
     "data": {
      "text/html": [
       "<div>\n",
       "<style scoped>\n",
       "    .dataframe tbody tr th:only-of-type {\n",
       "        vertical-align: middle;\n",
       "    }\n",
       "\n",
       "    .dataframe tbody tr th {\n",
       "        vertical-align: top;\n",
       "    }\n",
       "\n",
       "    .dataframe thead th {\n",
       "        text-align: right;\n",
       "    }\n",
       "</style>\n",
       "<table border=\"1\" class=\"dataframe\">\n",
       "  <thead>\n",
       "    <tr style=\"text-align: right;\">\n",
       "      <th></th>\n",
       "      <th>country</th>\n",
       "      <th>year</th>\n",
       "      <th>has a bank account</th>\n",
       "      <th>type of location</th>\n",
       "      <th>cell phone access</th>\n",
       "      <th>household size</th>\n",
       "      <th>respondent age</th>\n",
       "      <th>gender of respondent</th>\n",
       "      <th>relationship with head</th>\n",
       "      <th>marital status</th>\n",
       "      <th>...</th>\n",
       "      <th>type of job_Dont Know/Refuse to answer</th>\n",
       "      <th>type of job_Farming and Fishing</th>\n",
       "      <th>type of job_Formally employed Government</th>\n",
       "      <th>type of job_Formally employed Private</th>\n",
       "      <th>type of job_Government Dependent</th>\n",
       "      <th>type of job_Informally employed</th>\n",
       "      <th>type of job_No Income</th>\n",
       "      <th>type of job_Other Income</th>\n",
       "      <th>type of job_Remittance Dependent</th>\n",
       "      <th>type of job_Self employed</th>\n",
       "    </tr>\n",
       "  </thead>\n",
       "  <tbody>\n",
       "    <tr>\n",
       "      <th>0</th>\n",
       "      <td>Kenya</td>\n",
       "      <td>2018</td>\n",
       "      <td>Yes</td>\n",
       "      <td>Rural</td>\n",
       "      <td>Yes</td>\n",
       "      <td>3.0</td>\n",
       "      <td>24.0</td>\n",
       "      <td>Female</td>\n",
       "      <td>Spouse</td>\n",
       "      <td>Married/Living together</td>\n",
       "      <td>...</td>\n",
       "      <td>0</td>\n",
       "      <td>0</td>\n",
       "      <td>0</td>\n",
       "      <td>0</td>\n",
       "      <td>0</td>\n",
       "      <td>0</td>\n",
       "      <td>0</td>\n",
       "      <td>0</td>\n",
       "      <td>0</td>\n",
       "      <td>1</td>\n",
       "    </tr>\n",
       "    <tr>\n",
       "      <th>1</th>\n",
       "      <td>Kenya</td>\n",
       "      <td>2018</td>\n",
       "      <td>No</td>\n",
       "      <td>Rural</td>\n",
       "      <td>No</td>\n",
       "      <td>5.0</td>\n",
       "      <td>70.0</td>\n",
       "      <td>Female</td>\n",
       "      <td>Head of Household</td>\n",
       "      <td>Widowed</td>\n",
       "      <td>...</td>\n",
       "      <td>0</td>\n",
       "      <td>0</td>\n",
       "      <td>0</td>\n",
       "      <td>0</td>\n",
       "      <td>1</td>\n",
       "      <td>0</td>\n",
       "      <td>0</td>\n",
       "      <td>0</td>\n",
       "      <td>0</td>\n",
       "      <td>0</td>\n",
       "    </tr>\n",
       "    <tr>\n",
       "      <th>2</th>\n",
       "      <td>Kenya</td>\n",
       "      <td>2018</td>\n",
       "      <td>Yes</td>\n",
       "      <td>Urban</td>\n",
       "      <td>Yes</td>\n",
       "      <td>5.0</td>\n",
       "      <td>26.0</td>\n",
       "      <td>Male</td>\n",
       "      <td>Other relative</td>\n",
       "      <td>Single/Never Married</td>\n",
       "      <td>...</td>\n",
       "      <td>0</td>\n",
       "      <td>0</td>\n",
       "      <td>0</td>\n",
       "      <td>0</td>\n",
       "      <td>0</td>\n",
       "      <td>0</td>\n",
       "      <td>0</td>\n",
       "      <td>0</td>\n",
       "      <td>0</td>\n",
       "      <td>1</td>\n",
       "    </tr>\n",
       "    <tr>\n",
       "      <th>3</th>\n",
       "      <td>Kenya</td>\n",
       "      <td>2018</td>\n",
       "      <td>No</td>\n",
       "      <td>Rural</td>\n",
       "      <td>Yes</td>\n",
       "      <td>5.0</td>\n",
       "      <td>34.0</td>\n",
       "      <td>Female</td>\n",
       "      <td>Head of Household</td>\n",
       "      <td>Married/Living together</td>\n",
       "      <td>...</td>\n",
       "      <td>0</td>\n",
       "      <td>0</td>\n",
       "      <td>0</td>\n",
       "      <td>1</td>\n",
       "      <td>0</td>\n",
       "      <td>0</td>\n",
       "      <td>0</td>\n",
       "      <td>0</td>\n",
       "      <td>0</td>\n",
       "      <td>0</td>\n",
       "    </tr>\n",
       "    <tr>\n",
       "      <th>4</th>\n",
       "      <td>Kenya</td>\n",
       "      <td>2018</td>\n",
       "      <td>No</td>\n",
       "      <td>Urban</td>\n",
       "      <td>No</td>\n",
       "      <td>8.0</td>\n",
       "      <td>26.0</td>\n",
       "      <td>Male</td>\n",
       "      <td>Child</td>\n",
       "      <td>Single/Never Married</td>\n",
       "      <td>...</td>\n",
       "      <td>0</td>\n",
       "      <td>0</td>\n",
       "      <td>0</td>\n",
       "      <td>0</td>\n",
       "      <td>0</td>\n",
       "      <td>1</td>\n",
       "      <td>0</td>\n",
       "      <td>0</td>\n",
       "      <td>0</td>\n",
       "      <td>0</td>\n",
       "    </tr>\n",
       "  </tbody>\n",
       "</table>\n",
       "<p>5 rows × 50 columns</p>\n",
       "</div>"
      ],
      "text/plain": [
       "  country  year has a bank account type of location cell phone access  \\\n",
       "0   Kenya  2018                Yes            Rural               Yes   \n",
       "1   Kenya  2018                 No            Rural                No   \n",
       "2   Kenya  2018                Yes            Urban               Yes   \n",
       "3   Kenya  2018                 No            Rural               Yes   \n",
       "4   Kenya  2018                 No            Urban                No   \n",
       "\n",
       "   household size  respondent age gender of respondent relationship with head  \\\n",
       "0             3.0            24.0               Female                 Spouse   \n",
       "1             5.0            70.0               Female      Head of Household   \n",
       "2             5.0            26.0                 Male         Other relative   \n",
       "3             5.0            34.0               Female      Head of Household   \n",
       "4             8.0            26.0                 Male                  Child   \n",
       "\n",
       "            marital status  ... type of job_Dont Know/Refuse to answer  \\\n",
       "0  Married/Living together  ...                                      0   \n",
       "1                  Widowed  ...                                      0   \n",
       "2     Single/Never Married  ...                                      0   \n",
       "3  Married/Living together  ...                                      0   \n",
       "4     Single/Never Married  ...                                      0   \n",
       "\n",
       "  type of job_Farming and Fishing  type of job_Formally employed Government  \\\n",
       "0                               0                                         0   \n",
       "1                               0                                         0   \n",
       "2                               0                                         0   \n",
       "3                               0                                         0   \n",
       "4                               0                                         0   \n",
       "\n",
       "   type of job_Formally employed Private  type of job_Government Dependent  \\\n",
       "0                                      0                                 0   \n",
       "1                                      0                                 1   \n",
       "2                                      0                                 0   \n",
       "3                                      1                                 0   \n",
       "4                                      0                                 0   \n",
       "\n",
       "   type of job_Informally employed  type of job_No Income  \\\n",
       "0                                0                      0   \n",
       "1                                0                      0   \n",
       "2                                0                      0   \n",
       "3                                0                      0   \n",
       "4                                1                      0   \n",
       "\n",
       "   type of job_Other Income  type of job_Remittance Dependent  \\\n",
       "0                         0                                 0   \n",
       "1                         0                                 0   \n",
       "2                         0                                 0   \n",
       "3                         0                                 0   \n",
       "4                         0                                 0   \n",
       "\n",
       "   type of job_Self employed  \n",
       "0                          1  \n",
       "1                          0  \n",
       "2                          1  \n",
       "3                          0  \n",
       "4                          0  \n",
       "\n",
       "[5 rows x 50 columns]"
      ]
     },
     "execution_count": 77,
     "metadata": {},
     "output_type": "execute_result"
    }
   ],
   "source": [
    "df2 = pd.concat([df, df1], axis = 1)\n",
    "df2.head()"
   ]
  },
  {
   "cell_type": "markdown",
   "metadata": {},
   "source": [
    "**PRINCIPAL COMPONENT ANALYSIS**"
   ]
  },
  {
   "cell_type": "code",
   "execution_count": null,
   "metadata": {},
   "outputs": [],
   "source": []
  },
  {
   "cell_type": "code",
   "execution_count": null,
   "metadata": {},
   "outputs": [],
   "source": []
  },
  {
   "cell_type": "markdown",
   "metadata": {
    "id": "-iGjiKKZtT7b"
   },
   "source": [
    "# 7. Implementing the Solution"
   ]
  },
  {
   "cell_type": "markdown",
   "metadata": {
    "id": "3-zy19aFtXuL"
   },
   "source": [
    "# 8. Challenging the Solution"
   ]
  },
  {
   "cell_type": "markdown",
   "metadata": {
    "id": "_aj0TTXZtq0_"
   },
   "source": [
    "# 9. Follow up Questions"
   ]
  },
  {
   "cell_type": "markdown",
   "metadata": {
    "id": "IhZYtuYCtzrt"
   },
   "source": [
    "## a) Did we have the right data?"
   ]
  },
  {
   "cell_type": "markdown",
   "metadata": {
    "id": "LVrdWEB1tzxR"
   },
   "source": [
    "## b) Do we need other data to answer our questions?"
   ]
  },
  {
   "cell_type": "markdown",
   "metadata": {
    "id": "ZPtReWlDt0di"
   },
   "source": [
    "## c) Did we have the right question"
   ]
  }
 ],
 "metadata": {
  "colab": {
   "collapsed_sections": [
    "dEXDz2A7MMnU",
    "r5NyPjW3oZSd",
    "mBob_G29MM86",
    "KA1r4tVLMNlN",
    "s87XZlbNSRMw",
    "8Fmb07eJSXgy"
   ],
   "name": "Joshua_Kibuye_Moringa_School_Core_IndividualProject_Week_2_Python - Exploratory Data Analysis",
   "provenance": [],
   "toc_visible": true
  },
  "kernelspec": {
   "display_name": "Python 3 (ipykernel)",
   "language": "python",
   "name": "python3"
  },
  "language_info": {
   "codemirror_mode": {
    "name": "ipython",
    "version": 3
   },
   "file_extension": ".py",
   "mimetype": "text/x-python",
   "name": "python",
   "nbconvert_exporter": "python",
   "pygments_lexer": "ipython3",
   "version": "3.10.0"
  }
 },
 "nbformat": 4,
 "nbformat_minor": 1
}
